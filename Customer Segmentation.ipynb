{
 "cells": [
  {
   "cell_type": "markdown",
   "id": "2be818f8",
   "metadata": {},
   "source": [
    "In this file i would like to find out wath kind of customers buy products in mall client.\n",
    "At the beginning, I would like to check and visualize if there is any correlation between age, gender, salary of each person and amount of money which they spend nad based on this information i would like to divide people on some groups.\n",
    "\n"
   ]
  },
  {
   "cell_type": "code",
   "execution_count": 9,
   "id": "9e9c354e",
   "metadata": {},
   "outputs": [],
   "source": [
    "import pandas as pd\n",
    "import matplotlib.pyplot as plt\n",
    "import numpy as np\n"
   ]
  },
  {
   "cell_type": "code",
   "execution_count": 47,
   "id": "b593bd66",
   "metadata": {},
   "outputs": [],
   "source": [
    "data=pd.read_csv(\"Mall_Customers.csv\")"
   ]
  },
  {
   "cell_type": "code",
   "execution_count": 48,
   "id": "e0f5905e",
   "metadata": {},
   "outputs": [
    {
     "data": {
      "text/html": [
       "<div>\n",
       "<style scoped>\n",
       "    .dataframe tbody tr th:only-of-type {\n",
       "        vertical-align: middle;\n",
       "    }\n",
       "\n",
       "    .dataframe tbody tr th {\n",
       "        vertical-align: top;\n",
       "    }\n",
       "\n",
       "    .dataframe thead th {\n",
       "        text-align: right;\n",
       "    }\n",
       "</style>\n",
       "<table border=\"1\" class=\"dataframe\">\n",
       "  <thead>\n",
       "    <tr style=\"text-align: right;\">\n",
       "      <th></th>\n",
       "      <th>CustomerID</th>\n",
       "      <th>Age</th>\n",
       "      <th>Annual Income (k$)</th>\n",
       "      <th>Spending Score (1-100)</th>\n",
       "      <th>Gender_int</th>\n",
       "    </tr>\n",
       "  </thead>\n",
       "  <tbody>\n",
       "    <tr>\n",
       "      <th>0</th>\n",
       "      <td>1</td>\n",
       "      <td>19</td>\n",
       "      <td>15</td>\n",
       "      <td>39</td>\n",
       "      <td>1</td>\n",
       "    </tr>\n",
       "    <tr>\n",
       "      <th>1</th>\n",
       "      <td>2</td>\n",
       "      <td>21</td>\n",
       "      <td>15</td>\n",
       "      <td>81</td>\n",
       "      <td>1</td>\n",
       "    </tr>\n",
       "    <tr>\n",
       "      <th>2</th>\n",
       "      <td>3</td>\n",
       "      <td>20</td>\n",
       "      <td>16</td>\n",
       "      <td>6</td>\n",
       "      <td>0</td>\n",
       "    </tr>\n",
       "    <tr>\n",
       "      <th>3</th>\n",
       "      <td>4</td>\n",
       "      <td>23</td>\n",
       "      <td>16</td>\n",
       "      <td>77</td>\n",
       "      <td>0</td>\n",
       "    </tr>\n",
       "    <tr>\n",
       "      <th>4</th>\n",
       "      <td>5</td>\n",
       "      <td>31</td>\n",
       "      <td>17</td>\n",
       "      <td>40</td>\n",
       "      <td>0</td>\n",
       "    </tr>\n",
       "    <tr>\n",
       "      <th>...</th>\n",
       "      <td>...</td>\n",
       "      <td>...</td>\n",
       "      <td>...</td>\n",
       "      <td>...</td>\n",
       "      <td>...</td>\n",
       "    </tr>\n",
       "    <tr>\n",
       "      <th>195</th>\n",
       "      <td>196</td>\n",
       "      <td>35</td>\n",
       "      <td>120</td>\n",
       "      <td>79</td>\n",
       "      <td>0</td>\n",
       "    </tr>\n",
       "    <tr>\n",
       "      <th>196</th>\n",
       "      <td>197</td>\n",
       "      <td>45</td>\n",
       "      <td>126</td>\n",
       "      <td>28</td>\n",
       "      <td>0</td>\n",
       "    </tr>\n",
       "    <tr>\n",
       "      <th>197</th>\n",
       "      <td>198</td>\n",
       "      <td>32</td>\n",
       "      <td>126</td>\n",
       "      <td>74</td>\n",
       "      <td>1</td>\n",
       "    </tr>\n",
       "    <tr>\n",
       "      <th>198</th>\n",
       "      <td>199</td>\n",
       "      <td>32</td>\n",
       "      <td>137</td>\n",
       "      <td>18</td>\n",
       "      <td>1</td>\n",
       "    </tr>\n",
       "    <tr>\n",
       "      <th>199</th>\n",
       "      <td>200</td>\n",
       "      <td>30</td>\n",
       "      <td>137</td>\n",
       "      <td>83</td>\n",
       "      <td>1</td>\n",
       "    </tr>\n",
       "  </tbody>\n",
       "</table>\n",
       "<p>200 rows × 5 columns</p>\n",
       "</div>"
      ],
      "text/plain": [
       "     CustomerID  Age  Annual Income (k$)  Spending Score (1-100)  Gender_int\n",
       "0             1   19                  15                      39           1\n",
       "1             2   21                  15                      81           1\n",
       "2             3   20                  16                       6           0\n",
       "3             4   23                  16                      77           0\n",
       "4             5   31                  17                      40           0\n",
       "..          ...  ...                 ...                     ...         ...\n",
       "195         196   35                 120                      79           0\n",
       "196         197   45                 126                      28           0\n",
       "197         198   32                 126                      74           1\n",
       "198         199   32                 137                      18           1\n",
       "199         200   30                 137                      83           1\n",
       "\n",
       "[200 rows x 5 columns]"
      ]
     },
     "execution_count": 48,
     "metadata": {},
     "output_type": "execute_result"
    }
   ],
   "source": [
    "gender=pd.get_dummies(data.Gender,)\n",
    "data['Gender_int']=gender['Male'] # setting Gender Male as 1 and Woman as 0 \n",
    "data=data.drop(columns=\"Gender\")\n",
    "data"
   ]
  },
  {
   "cell_type": "markdown",
   "id": "4ee96c48",
   "metadata": {},
   "source": []
  },
  {
   "cell_type": "code",
   "execution_count": 49,
   "id": "96523cf0",
   "metadata": {},
   "outputs": [],
   "source": [
    "male=data[data.Gender_int==1]\n",
    "female=data[data.Gender_int==0]\n",
    "male_age_mean=male.Age.mean()\n",
    "male_score_mean=male['Spending Score (1-100)'].mean()\n",
    "female_age_mean=female.Age.mean()\n",
    "female_score_mean=female['Spending Score (1-100)'].mean()"
   ]
  },
  {
   "cell_type": "code",
   "execution_count": 50,
   "id": "15e2def3",
   "metadata": {},
   "outputs": [
    {
     "data": {
      "image/png": "[encoded data removed]",
      "text/plain": [
       "<Figure size 432x288 with 1 Axes>"
      ]
     },
     "metadata": {
      "needs_background": "light"
     },
     "output_type": "display_data"
    }
   ],
   "source": [
    "male_plot=plt.scatter(male.Age,male['Spending Score (1-100)'], label=\"Male\", s=10, color=\"b\")\n",
    "female_plot=plt.scatter(female.Age,female['Spending Score (1-100)'], label=\"Female\", s=10 ,color=\"r\")\n",
    "male_avg=plt.scatter(male_age_mean,male_score_mean, label=\"Male_avg\", s=60, marker=\"X\", color=\"b\")\n",
    "female_avg=plt.scatter(female_age_mean,female_score_mean, label=\"Female_avg\", s=60, marker=\"X\", color=\"r\")\n",
    "plt.ylabel(\"Spending score\")\n",
    "plt.xlabel(\"Age\")\n",
    "plt.legend();\n"
   ]
  },
  {
   "cell_type": "markdown",
   "id": "4e6ce103",
   "metadata": {},
   "source": [
    "We can see that there is similar value of spending score for average female and average male.\n",
    "\n",
    "But we can see that people over 40 have spending score below 60 points.\n",
    "\n",
    "Let's take a look if there is any correlation between spending score and annual salary.\n",
    "But at the beginning, i divide our dataset for people under and above 40.\n",
    "\n"
   ]
  },
  {
   "cell_type": "code",
   "execution_count": 51,
   "id": "e5319eb2",
   "metadata": {},
   "outputs": [],
   "source": [
    "under_40= data[data.Age<40]\n",
    "above_40= data[data.Age>=40]"
   ]
  },
  {
   "cell_type": "code",
   "execution_count": 52,
   "id": "90eaac69",
   "metadata": {},
   "outputs": [],
   "source": [
    "# Linear regression\n",
    "a40plus,b40plus=np.polyfit(above_40[\"Annual Income (k$)\"], above_40['Spending Score (1-100)'],1)\n",
    "a40minus,b40minus=np.polyfit(under_40[\"Annual Income (k$)\"], under_40['Spending Score (1-100)'],1)"
   ]
  },
  {
   "cell_type": "code",
   "execution_count": 53,
   "id": "5a551842",
   "metadata": {},
   "outputs": [
    {
     "data": {
      "image/png": "[encoded data removed]",
      "text/plain": [
       "<Figure size 432x288 with 1 Axes>"
      ]
     },
     "metadata": {
      "needs_background": "light"
     },
     "output_type": "display_data"
    }
   ],
   "source": [
    "u40=plt.scatter(under_40[\"Annual Income (k$)\"], under_40['Spending Score (1-100)'], label=\"Under_40\", s=20)\n",
    "a40=plt.scatter(above_40[\"Annual Income (k$)\"], above_40['Spending Score (1-100)'], label=\"Above_40\",s=20)\n",
    "plt.plot(under_40[\"Annual Income (k$)\"],a40minus*under_40[\"Annual Income (k$)\"]+b40minus, label=\"Linear regression for -40\")\n",
    "\n",
    "plt.plot(above_40[\"Annual Income (k$)\"],a40plus*above_40[\"Annual Income (k$)\"]+b40plus, label=\"Linear regression for +40\")\n",
    "\n",
    "plt.ylabel(\"Spending score\")\n",
    "plt.xlabel(\"Annual Income (k$)\")\n",
    "\n",
    "plt.legend(loc='upper center',bbox_to_anchor=(0.5,1.4));"
   ]
  },
  {
   "attachments": {},
   "cell_type": "markdown",
   "id": "fcb67cfa",
   "metadata": {},
   "source": [
    "\n",
    "Looking at this plot we can reach the conclusion that people under 40 have greater spending score than people above 40 ( we can came to this conclusion looking at first plot as well). \n",
    "\n",
    "Another interesting thing is that if person is above 40 and earns more, the spending score is descreasing!\n"
   ]
  },
  {
   "cell_type": "markdown",
   "id": "901ca66c",
   "metadata": {},
   "source": [
    "--------------------------------------------------------------------------------------------\n",
    "Now i would like to use Machine learning to segment our customers into some different profiles.\n",
    "\n",
    "One of the opitions is to use K-means algorithm. More on that: https://towardsdatascience.com/k-means-clustering-algorithm-applications-evaluation-methods-and-drawbacks-aa03e644b48a.\n",
    "\n",
    "To get reliable outcome i have to standarised all the data. More on that why i have choosen standardization in video :https://www.youtube.com/watch?v=mnKm3YP56PY\n"
   ]
  },
  {
   "cell_type": "code",
   "execution_count": 54,
   "id": "c2174ab4",
   "metadata": {},
   "outputs": [
    {
     "data": {
      "text/html": [
       "<div>\n",
       "<style scoped>\n",
       "    .dataframe tbody tr th:only-of-type {\n",
       "        vertical-align: middle;\n",
       "    }\n",
       "\n",
       "    .dataframe tbody tr th {\n",
       "        vertical-align: top;\n",
       "    }\n",
       "\n",
       "    .dataframe thead th {\n",
       "        text-align: right;\n",
       "    }\n",
       "</style>\n",
       "<table border=\"1\" class=\"dataframe\">\n",
       "  <thead>\n",
       "    <tr style=\"text-align: right;\">\n",
       "      <th></th>\n",
       "      <th>CustomerID</th>\n",
       "      <th>Age</th>\n",
       "      <th>Annual Income (k$)</th>\n",
       "      <th>Spending Score (1-100)</th>\n",
       "      <th>Gender_int</th>\n",
       "    </tr>\n",
       "  </thead>\n",
       "  <tbody>\n",
       "    <tr>\n",
       "      <th>0</th>\n",
       "      <td>1</td>\n",
       "      <td>19</td>\n",
       "      <td>15</td>\n",
       "      <td>39</td>\n",
       "      <td>1</td>\n",
       "    </tr>\n",
       "    <tr>\n",
       "      <th>1</th>\n",
       "      <td>2</td>\n",
       "      <td>21</td>\n",
       "      <td>15</td>\n",
       "      <td>81</td>\n",
       "      <td>1</td>\n",
       "    </tr>\n",
       "    <tr>\n",
       "      <th>2</th>\n",
       "      <td>3</td>\n",
       "      <td>20</td>\n",
       "      <td>16</td>\n",
       "      <td>6</td>\n",
       "      <td>0</td>\n",
       "    </tr>\n",
       "    <tr>\n",
       "      <th>3</th>\n",
       "      <td>4</td>\n",
       "      <td>23</td>\n",
       "      <td>16</td>\n",
       "      <td>77</td>\n",
       "      <td>0</td>\n",
       "    </tr>\n",
       "    <tr>\n",
       "      <th>4</th>\n",
       "      <td>5</td>\n",
       "      <td>31</td>\n",
       "      <td>17</td>\n",
       "      <td>40</td>\n",
       "      <td>0</td>\n",
       "    </tr>\n",
       "    <tr>\n",
       "      <th>...</th>\n",
       "      <td>...</td>\n",
       "      <td>...</td>\n",
       "      <td>...</td>\n",
       "      <td>...</td>\n",
       "      <td>...</td>\n",
       "    </tr>\n",
       "    <tr>\n",
       "      <th>195</th>\n",
       "      <td>196</td>\n",
       "      <td>35</td>\n",
       "      <td>120</td>\n",
       "      <td>79</td>\n",
       "      <td>0</td>\n",
       "    </tr>\n",
       "    <tr>\n",
       "      <th>196</th>\n",
       "      <td>197</td>\n",
       "      <td>45</td>\n",
       "      <td>126</td>\n",
       "      <td>28</td>\n",
       "      <td>0</td>\n",
       "    </tr>\n",
       "    <tr>\n",
       "      <th>197</th>\n",
       "      <td>198</td>\n",
       "      <td>32</td>\n",
       "      <td>126</td>\n",
       "      <td>74</td>\n",
       "      <td>1</td>\n",
       "    </tr>\n",
       "    <tr>\n",
       "      <th>198</th>\n",
       "      <td>199</td>\n",
       "      <td>32</td>\n",
       "      <td>137</td>\n",
       "      <td>18</td>\n",
       "      <td>1</td>\n",
       "    </tr>\n",
       "    <tr>\n",
       "      <th>199</th>\n",
       "      <td>200</td>\n",
       "      <td>30</td>\n",
       "      <td>137</td>\n",
       "      <td>83</td>\n",
       "      <td>1</td>\n",
       "    </tr>\n",
       "  </tbody>\n",
       "</table>\n",
       "<p>200 rows × 5 columns</p>\n",
       "</div>"
      ],
      "text/plain": [
       "     CustomerID  Age  Annual Income (k$)  Spending Score (1-100)  Gender_int\n",
       "0             1   19                  15                      39           1\n",
       "1             2   21                  15                      81           1\n",
       "2             3   20                  16                       6           0\n",
       "3             4   23                  16                      77           0\n",
       "4             5   31                  17                      40           0\n",
       "..          ...  ...                 ...                     ...         ...\n",
       "195         196   35                 120                      79           0\n",
       "196         197   45                 126                      28           0\n",
       "197         198   32                 126                      74           1\n",
       "198         199   32                 137                      18           1\n",
       "199         200   30                 137                      83           1\n",
       "\n",
       "[200 rows x 5 columns]"
      ]
     },
     "execution_count": 54,
     "metadata": {},
     "output_type": "execute_result"
    }
   ],
   "source": [
    "data"
   ]
  },
  {
   "cell_type": "markdown",
   "id": "6b2dcfca",
   "metadata": {},
   "source": [
    "Gender_int column has two values: 0 and 1, so it is not necessery to standarised this column.\n",
    "\n",
    "Let's create new tabel with standarised values."
   ]
  },
  {
   "cell_type": "code",
   "execution_count": 55,
   "id": "d68d94b4",
   "metadata": {},
   "outputs": [],
   "source": [
    "from sklearn.preprocessing import StandardScaler"
   ]
  },
  {
   "cell_type": "code",
   "execution_count": 56,
   "id": "4e03a7eb",
   "metadata": {},
   "outputs": [],
   "source": [
    "scaler= StandardScaler()"
   ]
  },
  {
   "cell_type": "code",
   "execution_count": 57,
   "id": "703ebcff",
   "metadata": {},
   "outputs": [
    {
     "data": {
      "text/html": [
       "<div>\n",
       "<style scoped>\n",
       "    .dataframe tbody tr th:only-of-type {\n",
       "        vertical-align: middle;\n",
       "    }\n",
       "\n",
       "    .dataframe tbody tr th {\n",
       "        vertical-align: top;\n",
       "    }\n",
       "\n",
       "    .dataframe thead th {\n",
       "        text-align: right;\n",
       "    }\n",
       "</style>\n",
       "<table border=\"1\" class=\"dataframe\">\n",
       "  <thead>\n",
       "    <tr style=\"text-align: right;\">\n",
       "      <th></th>\n",
       "      <th>Annual Income (k$)</th>\n",
       "      <th>Age</th>\n",
       "      <th>Spending Score (1-100)</th>\n",
       "      <th>Gender</th>\n",
       "    </tr>\n",
       "  </thead>\n",
       "  <tbody>\n",
       "    <tr>\n",
       "      <th>0</th>\n",
       "      <td>-1.738999</td>\n",
       "      <td>-1.424569</td>\n",
       "      <td>-0.434801</td>\n",
       "      <td>1</td>\n",
       "    </tr>\n",
       "    <tr>\n",
       "      <th>1</th>\n",
       "      <td>-1.738999</td>\n",
       "      <td>-1.281035</td>\n",
       "      <td>1.195704</td>\n",
       "      <td>1</td>\n",
       "    </tr>\n",
       "    <tr>\n",
       "      <th>2</th>\n",
       "      <td>-1.700830</td>\n",
       "      <td>-1.352802</td>\n",
       "      <td>-1.715913</td>\n",
       "      <td>0</td>\n",
       "    </tr>\n",
       "    <tr>\n",
       "      <th>3</th>\n",
       "      <td>-1.700830</td>\n",
       "      <td>-1.137502</td>\n",
       "      <td>1.040418</td>\n",
       "      <td>0</td>\n",
       "    </tr>\n",
       "    <tr>\n",
       "      <th>4</th>\n",
       "      <td>-1.662660</td>\n",
       "      <td>-0.563369</td>\n",
       "      <td>-0.395980</td>\n",
       "      <td>0</td>\n",
       "    </tr>\n",
       "    <tr>\n",
       "      <th>...</th>\n",
       "      <td>...</td>\n",
       "      <td>...</td>\n",
       "      <td>...</td>\n",
       "      <td>...</td>\n",
       "    </tr>\n",
       "    <tr>\n",
       "      <th>195</th>\n",
       "      <td>2.268791</td>\n",
       "      <td>-0.276302</td>\n",
       "      <td>1.118061</td>\n",
       "      <td>0</td>\n",
       "    </tr>\n",
       "    <tr>\n",
       "      <th>196</th>\n",
       "      <td>2.497807</td>\n",
       "      <td>0.441365</td>\n",
       "      <td>-0.861839</td>\n",
       "      <td>0</td>\n",
       "    </tr>\n",
       "    <tr>\n",
       "      <th>197</th>\n",
       "      <td>2.497807</td>\n",
       "      <td>-0.491602</td>\n",
       "      <td>0.923953</td>\n",
       "      <td>1</td>\n",
       "    </tr>\n",
       "    <tr>\n",
       "      <th>198</th>\n",
       "      <td>2.917671</td>\n",
       "      <td>-0.491602</td>\n",
       "      <td>-1.250054</td>\n",
       "      <td>1</td>\n",
       "    </tr>\n",
       "    <tr>\n",
       "      <th>199</th>\n",
       "      <td>2.917671</td>\n",
       "      <td>-0.635135</td>\n",
       "      <td>1.273347</td>\n",
       "      <td>1</td>\n",
       "    </tr>\n",
       "  </tbody>\n",
       "</table>\n",
       "<p>200 rows × 4 columns</p>\n",
       "</div>"
      ],
      "text/plain": [
       "     Annual Income (k$)       Age  Spending Score (1-100)  Gender\n",
       "0             -1.738999 -1.424569               -0.434801       1\n",
       "1             -1.738999 -1.281035                1.195704       1\n",
       "2             -1.700830 -1.352802               -1.715913       0\n",
       "3             -1.700830 -1.137502                1.040418       0\n",
       "4             -1.662660 -0.563369               -0.395980       0\n",
       "..                  ...       ...                     ...     ...\n",
       "195            2.268791 -0.276302                1.118061       0\n",
       "196            2.497807  0.441365               -0.861839       0\n",
       "197            2.497807 -0.491602                0.923953       1\n",
       "198            2.917671 -0.491602               -1.250054       1\n",
       "199            2.917671 -0.635135                1.273347       1\n",
       "\n",
       "[200 rows x 4 columns]"
      ]
     },
     "execution_count": 57,
     "metadata": {},
     "output_type": "execute_result"
    }
   ],
   "source": [
    "col=['Annual Income (k$)', 'Age', 'Spending Score (1-100)']\n",
    "data_std=data[col]\n",
    "cols=scaler.fit(data_std.values)\n",
    "data_std=cols.transform(data_std.values)\n",
    "data_std=pd.DataFrame(data_std, columns=col)\n",
    "data_std['Gender']=data['Gender_int']\n",
    "data_std"
   ]
  },
  {
   "cell_type": "markdown",
   "id": "567fba6a",
   "metadata": {},
   "source": [
    "A silhouette coefficient is a metric used to evaluate the quality of clusters created by the algorithm. More on that: https://towardsdatascience.com/silhouette-coefficient-validating-clustering-techniques-e976bb81d10c"
   ]
  },
  {
   "cell_type": "code",
   "execution_count": 60,
   "id": "90e8d1ea",
   "metadata": {},
   "outputs": [],
   "source": [
    "from sklearn.metrics import silhouette_score\n",
    "from sklearn.cluster import KMeans"
   ]
  },
  {
   "cell_type": "markdown",
   "id": "391f8c39",
   "metadata": {},
   "source": [
    "For small data as this one (200 rows), the number of clusters should not be to large. I decided to analyse up to 9 clusters."
   ]
  },
  {
   "cell_type": "code",
   "execution_count": 116,
   "id": "a461986b",
   "metadata": {},
   "outputs": [],
   "source": [
    "score_kmean={}\n",
    "for i in range(2,10): # minimal amount of clusters should be greater than 1 \n",
    "    KMean= KMeans(n_clusters=i)\n",
    "    KMean.fit(data_std)\n",
    "    label=KMean.predict(data_std)\n",
    "    score_kmean[i]=silhouette_score(data_std, label)"
   ]
  },
  {
   "cell_type": "code",
   "execution_count": 117,
   "id": "b7767dc4",
   "metadata": {},
   "outputs": [
    {
     "data": {
      "text/plain": [
       "6"
      ]
     },
     "execution_count": 117,
     "metadata": {},
     "output_type": "execute_result"
    }
   ],
   "source": [
    "max(score, key=score.get)# getting key of cluster where the poinst are well apart from each other"
   ]
  },
  {
   "cell_type": "code",
   "execution_count": 119,
   "id": "26389a3b",
   "metadata": {},
   "outputs": [
    {
     "data": {
      "image/png": "[encoded data removed]",
      "text/plain": [
       "<Figure size 432x288 with 1 Axes>"
      ]
     },
     "metadata": {
      "needs_background": "light"
     },
     "output_type": "display_data"
    }
   ],
   "source": [
    "plt.bar(x=score_kmean.keys(), height=score_kmean.values());\n",
    "plt.bar( x=max(score_kmean, key=score_kmean.get), height=score_kmean[max(score, key=score.get)], color=\"y\");"
   ]
  },
  {
   "cell_type": "markdown",
   "id": "add9d5fb",
   "metadata": {},
   "source": [
    "In this exaple the best amount of clusters is 6. The output for 6 is around 0.35 and it is not so bad output.\n",
    "\n",
    "Let's visualize this data and try to divide profiles of customers."
   ]
  },
  {
   "cell_type": "code",
   "execution_count": 128,
   "id": "9a123599",
   "metadata": {},
   "outputs": [],
   "source": [
    "KMean= KMeans(n_clusters=6) # predicting cluster to each row in dataframe\n",
    "KMean.fit(data_std)\n",
    "label=KMean.predict(data_std)\n",
    "data['cluster']=label"
   ]
  },
  {
   "cell_type": "code",
   "execution_count": 131,
   "id": "51ec668c",
   "metadata": {},
   "outputs": [
    {
     "data": {
      "text/html": [
       "<div>\n",
       "<style scoped>\n",
       "    .dataframe tbody tr th:only-of-type {\n",
       "        vertical-align: middle;\n",
       "    }\n",
       "\n",
       "    .dataframe tbody tr th {\n",
       "        vertical-align: top;\n",
       "    }\n",
       "\n",
       "    .dataframe thead th {\n",
       "        text-align: right;\n",
       "    }\n",
       "</style>\n",
       "<table border=\"1\" class=\"dataframe\">\n",
       "  <thead>\n",
       "    <tr style=\"text-align: right;\">\n",
       "      <th></th>\n",
       "      <th>CustomerID</th>\n",
       "      <th>Age</th>\n",
       "      <th>Annual Income (k$)</th>\n",
       "      <th>Spending Score (1-100)</th>\n",
       "      <th>Gender_int</th>\n",
       "      <th>cluster</th>\n",
       "    </tr>\n",
       "  </thead>\n",
       "  <tbody>\n",
       "    <tr>\n",
       "      <th>0</th>\n",
       "      <td>1</td>\n",
       "      <td>19</td>\n",
       "      <td>15</td>\n",
       "      <td>39</td>\n",
       "      <td>1</td>\n",
       "      <td>4</td>\n",
       "    </tr>\n",
       "    <tr>\n",
       "      <th>1</th>\n",
       "      <td>2</td>\n",
       "      <td>21</td>\n",
       "      <td>15</td>\n",
       "      <td>81</td>\n",
       "      <td>1</td>\n",
       "      <td>4</td>\n",
       "    </tr>\n",
       "    <tr>\n",
       "      <th>2</th>\n",
       "      <td>3</td>\n",
       "      <td>20</td>\n",
       "      <td>16</td>\n",
       "      <td>6</td>\n",
       "      <td>0</td>\n",
       "      <td>3</td>\n",
       "    </tr>\n",
       "  </tbody>\n",
       "</table>\n",
       "</div>"
      ],
      "text/plain": [
       "   CustomerID  Age  Annual Income (k$)  Spending Score (1-100)  Gender_int  \\\n",
       "0           1   19                  15                      39           1   \n",
       "1           2   21                  15                      81           1   \n",
       "2           3   20                  16                       6           0   \n",
       "\n",
       "   cluster  \n",
       "0        4  \n",
       "1        4  \n",
       "2        3  "
      ]
     },
     "execution_count": 131,
     "metadata": {},
     "output_type": "execute_result"
    }
   ],
   "source": [
    "data.head(3)"
   ]
  },
  {
   "cell_type": "code",
   "execution_count": 132,
   "id": "e6b6c289",
   "metadata": {},
   "outputs": [],
   "source": [
    "from mpl_toolkits import mplot3d"
   ]
  },
  {
   "cell_type": "code",
   "execution_count": 175,
   "id": "101249ff",
   "metadata": {},
   "outputs": [],
   "source": [
    "data1=data[data.cluster==1]\n",
    "data2=data[data.cluster==2]\n",
    "data3=data[data.cluster==3]\n",
    "data4=data[data.cluster==4]\n",
    "data5=data[data.cluster==5]\n",
    "data6=data[data.cluster==0]"
   ]
  },
  {
   "cell_type": "code",
   "execution_count": 201,
   "id": "26fa84c1",
   "metadata": {},
   "outputs": [
    {
     "data": {
      "image/png": "[encoded data removed]",
      "text/plain": [
       "<Figure size 1152x648 with 1 Axes>"
      ]
     },
     "metadata": {
      "needs_background": "light"
     },
     "output_type": "display_data"
    }
   ],
   "source": [
    "fig = plt.figure(figsize = (16, 9))\n",
    "ax = plt.axes(projection =\"3d\")\n",
    "ax.grid (color ='grey',\n",
    "        linestyle ='-.', linewidth = 0.3,\n",
    "        alpha = 0.2)\n",
    "\n",
    " \n",
    "\n",
    "ax.scatter3D(data1.Age, data1['Annual Income (k$)'],data1['Spending Score (1-100)'],alpha = 0.8, label=\"cluster 1\")\n",
    "ax.scatter3D(data2.Age, data2['Annual Income (k$)'],data2['Spending Score (1-100)'],alpha = 0.8, label=\"cluster 2\")\n",
    "ax.scatter3D(data3.Age, data3['Annual Income (k$)'],data3['Spending Score (1-100)'],alpha = 0.8, label=\"cluster 3\")\n",
    "ax.scatter3D(data4.Age, data4['Annual Income (k$)'],data4['Spending Score (1-100)'],alpha = 0.8, label=\"cluster 4\")\n",
    "ax.scatter3D(data5.Age, data5['Annual Income (k$)'],data5['Spending Score (1-100)'],alpha = 0.8, label=\"cluster 5\")\n",
    "ax.scatter3D(data6.Age, data6['Annual Income (k$)'],data6['Spending Score (1-100)'],alpha = 0.8, label=\"cluster 0\")\n",
    "\n",
    "                \n",
    " \n",
    "plt.title(\"Profiles of customers\")\n",
    "ax.set_xlabel('Age', fontweight ='bold')\n",
    "ax.set_ylabel('Annual Income (k$)', fontweight ='bold')\n",
    "ax.set_zlabel('Spending Score (1-100)', fontweight ='bold')\n",
    "ax.legend();"
   ]
  },
  {
   "cell_type": "code",
   "execution_count": null,
   "id": "55c3ca85",
   "metadata": {},
   "outputs": [],
   "source": [
    "\n",
    "\n"
   ]
  },
  {
   "cell_type": "code",
   "execution_count": 195,
   "id": "9593655c",
   "metadata": {},
   "outputs": [
    {
     "data": {
      "text/html": [
       "<div>\n",
       "<style scoped>\n",
       "    .dataframe tbody tr th:only-of-type {\n",
       "        vertical-align: middle;\n",
       "    }\n",
       "\n",
       "    .dataframe tbody tr th {\n",
       "        vertical-align: top;\n",
       "    }\n",
       "\n",
       "    .dataframe thead th {\n",
       "        text-align: right;\n",
       "    }\n",
       "</style>\n",
       "<table border=\"1\" class=\"dataframe\">\n",
       "  <thead>\n",
       "    <tr style=\"text-align: right;\">\n",
       "      <th></th>\n",
       "      <th>CustomerID</th>\n",
       "      <th>Age</th>\n",
       "      <th>Annual Income (k$)</th>\n",
       "      <th>Spending Score (1-100)</th>\n",
       "      <th>Gender_int</th>\n",
       "    </tr>\n",
       "    <tr>\n",
       "      <th>cluster</th>\n",
       "      <th></th>\n",
       "      <th></th>\n",
       "      <th></th>\n",
       "      <th></th>\n",
       "      <th></th>\n",
       "    </tr>\n",
       "  </thead>\n",
       "  <tbody>\n",
       "    <tr>\n",
       "      <th>0</th>\n",
       "      <td>83.777778</td>\n",
       "      <td>56.333333</td>\n",
       "      <td>54.266667</td>\n",
       "      <td>49.066667</td>\n",
       "      <td>0.422222</td>\n",
       "    </tr>\n",
       "    <tr>\n",
       "      <th>1</th>\n",
       "      <td>162.000000</td>\n",
       "      <td>32.692308</td>\n",
       "      <td>86.538462</td>\n",
       "      <td>82.128205</td>\n",
       "      <td>0.461538</td>\n",
       "    </tr>\n",
       "    <tr>\n",
       "      <th>2</th>\n",
       "      <td>90.052632</td>\n",
       "      <td>27.000000</td>\n",
       "      <td>56.657895</td>\n",
       "      <td>49.131579</td>\n",
       "      <td>0.342105</td>\n",
       "    </tr>\n",
       "    <tr>\n",
       "      <th>3</th>\n",
       "      <td>23.190476</td>\n",
       "      <td>45.523810</td>\n",
       "      <td>26.285714</td>\n",
       "      <td>19.380952</td>\n",
       "      <td>0.380952</td>\n",
       "    </tr>\n",
       "    <tr>\n",
       "      <th>4</th>\n",
       "      <td>22.130435</td>\n",
       "      <td>25.000000</td>\n",
       "      <td>25.260870</td>\n",
       "      <td>77.608696</td>\n",
       "      <td>0.434783</td>\n",
       "    </tr>\n",
       "    <tr>\n",
       "      <th>5</th>\n",
       "      <td>164.529412</td>\n",
       "      <td>41.264706</td>\n",
       "      <td>88.500000</td>\n",
       "      <td>16.764706</td>\n",
       "      <td>0.588235</td>\n",
       "    </tr>\n",
       "  </tbody>\n",
       "</table>\n",
       "</div>"
      ],
      "text/plain": [
       "         CustomerID        Age  Annual Income (k$)  Spending Score (1-100)  \\\n",
       "cluster                                                                      \n",
       "0         83.777778  56.333333           54.266667               49.066667   \n",
       "1        162.000000  32.692308           86.538462               82.128205   \n",
       "2         90.052632  27.000000           56.657895               49.131579   \n",
       "3         23.190476  45.523810           26.285714               19.380952   \n",
       "4         22.130435  25.000000           25.260870               77.608696   \n",
       "5        164.529412  41.264706           88.500000               16.764706   \n",
       "\n",
       "         Gender_int  \n",
       "cluster              \n",
       "0          0.422222  \n",
       "1          0.461538  \n",
       "2          0.342105  \n",
       "3          0.380952  \n",
       "4          0.434783  \n",
       "5          0.588235  "
      ]
     },
     "execution_count": 195,
     "metadata": {},
     "output_type": "execute_result"
    }
   ],
   "source": [
    "data_avg=data.groupby('cluster').mean()\n",
    "data_avg"
   ]
  },
  {
   "cell_type": "code",
   "execution_count": 209,
   "id": "8502bc9d",
   "metadata": {},
   "outputs": [
    {
     "data": {
      "image/png": "[encoded data removed]",
      "text/plain": [
       "<Figure size 1296x360 with 3 Axes>"
      ]
     },
     "metadata": {
      "needs_background": "light"
     },
     "output_type": "display_data"
    }
   ],
   "source": [
    "fig, ax = plt.subplots(nrows=1, ncols=3, figsize=(18, 5))\n",
    "ax1=ax[0]\n",
    "ax2=ax[1]\n",
    "ax3=ax[2]\n",
    "ax1.bar(data_avg.index, data_avg.Age, color=['black', 'red', 'green', 'blue', 'cyan', 'yellow'])\n",
    "ax1.set_title(\"Average Age in each cluster\")\n",
    "ax1.set_xlabel(\"cluster\")\n",
    "ax1.set_ylabel(\"Average Age\")\n",
    "ax2.bar(data_avg.index, data_avg['Annual Income (k$)'], color=['black', 'red', 'green', 'blue', 'cyan', 'yellow'])\n",
    "ax2.set_title(\"Average Annual Income (k$) in each cluster\")\n",
    "ax2.set_xlabel(\"cluster\")\n",
    "ax2.set_ylabel(\"Average Annual Income (k$)\")\n",
    "ax3.bar(data_avg.index, data_avg['Spending Score (1-100)'], color=['black', 'red', 'green', 'blue', 'cyan', 'yellow'])\n",
    "ax3.set_title(\"Average Spending Score in each cluster\")\n",
    "ax3.set_xlabel(\"cluster\")\n",
    "ax3.set_ylabel(\"Average Spending Score\");"
   ]
  },
  {
   "cell_type": "markdown",
   "id": "4121c58b",
   "metadata": {},
   "source": [
    "We can some group of customers. \n",
    "For exaple:Cluster 0 - old peope with medium annual income and medium spending score. Cluster 1 is a group of people that average age is 30 with high income (over 70 k$) having spending score above 80. Cluster 2 young people with medium annual income have large spending score. Cluster 3 - people in different age with low annual income have low spending score. Cluster 4 young peope with low level of income and high spending score. Cluster 5 we can find out that it usually medium or old people with high income and low spending score. \n",
    "\n",
    "Conclusion:\n",
    "\n",
    "Based on this plot we can reach the conclusion that major of young people have medium or high spending score( even with low level of income). Medium-aged and old people have usually lower spending score than young people (no matter how high is annual income). Young people with high income have the highest spending score. \n"
   ]
  },
  {
   "cell_type": "code",
   "execution_count": null,
   "id": "e56e1743",
   "metadata": {},
   "outputs": [],
   "source": []
  },
  {
   "cell_type": "code",
   "execution_count": null,
   "id": "418d24e3",
   "metadata": {},
   "outputs": [],
   "source": []
  },
  {
   "cell_type": "code",
   "execution_count": null,
   "id": "490e70c6",
   "metadata": {},
   "outputs": [],
   "source": []
  },
  {
   "cell_type": "code",
   "execution_count": null,
   "id": "ed0b9b38",
   "metadata": {},
   "outputs": [],
   "source": []
  },
  {
   "cell_type": "code",
   "execution_count": null,
   "id": "2fc47d46",
   "metadata": {},
   "outputs": [],
   "source": []
  }
 ],
 "metadata": {
  "kernelspec": {
   "display_name": "Python 3 (ipykernel)",
   "language": "python",
   "name": "python3"
  },
  "language_info": {
   "codemirror_mode": {
    "name": "ipython",
    "version": 3
   },
   "file_extension": ".py",
   "mimetype": "text/x-python",
   "name": "python",
   "nbconvert_exporter": "python",
   "pygments_lexer": "ipython3",
   "version": "3.8.8"
  }
 },
 "nbformat": 4,
 "nbformat_minor": 5
}
